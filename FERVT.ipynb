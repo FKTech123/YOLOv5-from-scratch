{
 "cells": [
  {
   "cell_type": "markdown",
   "metadata": {},
   "source": [
    "https://www.kaggle.com/code/natapat/deliverable-fervt"
   ]
  },
  {
   "cell_type": "code",
   "execution_count": 2,
   "metadata": {},
   "outputs": [
    {
     "name": "stdout",
     "output_type": "stream",
     "text": [
      "Collecting dlibNote: you may need to restart the kernel to use updated packages.\n"
     ]
    },
    {
     "name": "stderr",
     "output_type": "stream",
     "text": [
      "  error: subprocess-exited-with-error\n",
      "  \n",
      "  × Building wheel for dlib (pyproject.toml) did not run successfully.\n",
      "  │ exit code: 1\n",
      "  ╰─> [6 lines of output]\n",
      "      running bdist_wheel\n",
      "      running build\n",
      "      running build_ext\n",
      "      \n",
      "      ERROR: CMake must be installed to build dlib\n",
      "      \n",
      "      [end of output]\n",
      "  \n",
      "  note: This error originates from a subprocess, and is likely not a problem with pip.\n",
      "  ERROR: Failed building wheel for dlib\n",
      "ERROR: ERROR: Failed to build installable wheels for some pyproject.toml based projects (dlib)\n"
     ]
    },
    {
     "name": "stdout",
     "output_type": "stream",
     "text": [
      "\n",
      "  Downloading dlib-19.24.4.tar.gz (3.3 MB)\n",
      "     ---------------------------------------- 0.0/3.3 MB ? eta -:--:--\n",
      "     ---------------------------------------- 0.0/3.3 MB 660.6 kB/s eta 0:00:05\n",
      "     ---------------------------------------- 0.0/3.3 MB 660.6 kB/s eta 0:00:05\n",
      "     - -------------------------------------- 0.1/3.3 MB 726.2 kB/s eta 0:00:05\n",
      "     - -------------------------------------- 0.1/3.3 MB 708.1 kB/s eta 0:00:05\n",
      "     --- ------------------------------------ 0.2/3.3 MB 1.0 MB/s eta 0:00:04\n",
      "     --- ------------------------------------ 0.3/3.3 MB 1.1 MB/s eta 0:00:03\n",
      "     ----- ---------------------------------- 0.5/3.3 MB 1.3 MB/s eta 0:00:03\n",
      "     ------ --------------------------------- 0.5/3.3 MB 1.4 MB/s eta 0:00:02\n",
      "     -------- ------------------------------- 0.7/3.3 MB 1.6 MB/s eta 0:00:02\n",
      "     ----------- ---------------------------- 0.9/3.3 MB 1.9 MB/s eta 0:00:02\n",
      "     ------------- -------------------------- 1.1/3.3 MB 2.2 MB/s eta 0:00:01\n",
      "     ---------------- ----------------------- 1.4/3.3 MB 2.4 MB/s eta 0:00:01\n",
      "     ----------------- ---------------------- 1.4/3.3 MB 2.4 MB/s eta 0:00:01\n",
      "     ----------------- ---------------------- 1.5/3.3 MB 2.3 MB/s eta 0:00:01\n",
      "     ----------------- ---------------------- 1.5/3.3 MB 2.3 MB/s eta 0:00:01\n",
      "     -------------------- ------------------- 1.7/3.3 MB 2.2 MB/s eta 0:00:01\n",
      "     --------------------- ------------------ 1.7/3.3 MB 2.2 MB/s eta 0:00:01\n",
      "     ---------------------- ----------------- 1.8/3.3 MB 2.1 MB/s eta 0:00:01\n",
      "     ---------------------- ----------------- 1.9/3.3 MB 2.1 MB/s eta 0:00:01\n",
      "     ------------------------ --------------- 2.0/3.3 MB 2.1 MB/s eta 0:00:01\n",
      "     ------------------------- -------------- 2.1/3.3 MB 2.1 MB/s eta 0:00:01\n",
      "     --------------------------- ------------ 2.2/3.3 MB 2.1 MB/s eta 0:00:01\n",
      "     ----------------------------- ---------- 2.4/3.3 MB 2.3 MB/s eta 0:00:01\n",
      "     -------------------------------- ------- 2.7/3.3 MB 2.4 MB/s eta 0:00:01\n",
      "     ------------------------------------ --- 2.9/3.3 MB 2.5 MB/s eta 0:00:01\n",
      "     -------------------------------------- - 3.1/3.3 MB 2.5 MB/s eta 0:00:01\n",
      "     ---------------------------------------- 3.3/3.3 MB 2.6 MB/s eta 0:00:00\n",
      "  Installing build dependencies: started\n",
      "  Installing build dependencies: finished with status 'done'\n",
      "  Getting requirements to build wheel: started\n",
      "  Getting requirements to build wheel: finished with status 'done'\n",
      "  Preparing metadata (pyproject.toml): started\n",
      "  Preparing metadata (pyproject.toml): finished with status 'done'\n",
      "Building wheels for collected packages: dlib\n",
      "  Building wheel for dlib (pyproject.toml): started\n",
      "  Building wheel for dlib (pyproject.toml): finished with status 'error'\n",
      "Failed to build dlib\n"
     ]
    }
   ],
   "source": [
    "# this should take around 10 mins to install\n",
    "# git clone https://github.com/ZBigFish/FER-VT.git\n",
    "%pip install dlib"
   ]
  },
  {
   "cell_type": "code",
   "execution_count": 5,
   "metadata": {},
   "outputs": [],
   "source": [
    "# !git clone https://github.com/microsoft/FERPlus.git"
   ]
  },
  {
   "cell_type": "code",
   "execution_count": 6,
   "metadata": {},
   "outputs": [
    {
     "ename": "FileNotFoundError",
     "evalue": "[WinError 3] The system cannot find the path specified: '/kaggle/working/FER-VT'",
     "output_type": "error",
     "traceback": [
      "\u001b[1;31m---------------------------------------------------------------------------\u001b[0m",
      "\u001b[1;31mFileNotFoundError\u001b[0m                         Traceback (most recent call last)",
      "Cell \u001b[1;32mIn[6], line 2\u001b[0m\n\u001b[0;32m      1\u001b[0m \u001b[38;5;28;01mimport\u001b[39;00m \u001b[38;5;21;01mos\u001b[39;00m\n\u001b[1;32m----> 2\u001b[0m \u001b[43mos\u001b[49m\u001b[38;5;241;43m.\u001b[39;49m\u001b[43mchdir\u001b[49m\u001b[43m(\u001b[49m\u001b[38;5;124;43m'\u001b[39;49m\u001b[38;5;124;43m/kaggle/working/FER-VT\u001b[39;49m\u001b[38;5;124;43m'\u001b[39;49m\u001b[43m)\u001b[49m\n\u001b[0;32m      3\u001b[0m \u001b[38;5;28;01mimport\u001b[39;00m \u001b[38;5;21;01mmath\u001b[39;00m\n\u001b[0;32m      4\u001b[0m \u001b[38;5;28;01mimport\u001b[39;00m \u001b[38;5;21;01mos\u001b[39;00m\n",
      "\u001b[1;31mFileNotFoundError\u001b[0m: [WinError 3] The system cannot find the path specified: '/kaggle/working/FER-VT'"
     ]
    }
   ],
   "source": [
    "import os\n",
    "os.chdir('/kaggle/working/FER-VT')\n",
    "import math\n",
    "import os\n",
    "import random\n",
    "\n",
    "import cv2\n",
    "import numpy as np\n",
    "import torch\n",
    "from PIL import Image\n",
    "from matplotlib import pyplot as plt\n",
    "from torch.utils.data import DataLoader, random_split\n",
    "from torchvision import transforms\n",
    "import logging\n",
    "\n",
    "from torchvision.datasets import ImageFolder\n",
    "from tqdm import tqdm\n",
    "import model.FERVT\n",
    "from sklearn.metrics import confusion_matrix\n",
    "from dataset.augment import Albumentations,augment_hsv\n",
    "from model.FERVT import LabelSmoothingLoss"
   ]
  },
  {
   "cell_type": "code",
   "execution_count": null,
   "metadata": {},
   "outputs": [],
   "source": [
    "device = torch.device(\"cuda\")"
   ]
  }
 ],
 "metadata": {
  "kernelspec": {
   "display_name": "Python 3",
   "language": "python",
   "name": "python3"
  },
  "language_info": {
   "codemirror_mode": {
    "name": "ipython",
    "version": 3
   },
   "file_extension": ".py",
   "mimetype": "text/x-python",
   "name": "python",
   "nbconvert_exporter": "python",
   "pygments_lexer": "ipython3",
   "version": "3.9.13"
  }
 },
 "nbformat": 4,
 "nbformat_minor": 2
}
